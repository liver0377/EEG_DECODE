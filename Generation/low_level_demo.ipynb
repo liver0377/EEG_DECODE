{
 "cells": [
  {
   "cell_type": "markdown",
   "metadata": {},
   "source": [
    "# 利用16张low level图片, 生成16张图"
   ]
  },
  {
   "cell_type": "code",
   "execution_count": 1,
   "metadata": {},
   "outputs": [],
   "source": [
    "import torch.nn as nn\n",
    "import torch\n",
    "import re\n",
    "import os\n",
    "from PIL import Image\n",
    "from transformers import CLIPVisionModelWithProjection, CLIPImageProcessor\n",
    "from custom_pipeline_low_level import Generator4Embeds\n",
    "from diffusion_prior import DiffusionPriorUNet, Pipe"
   ]
  },
  {
   "cell_type": "code",
   "execution_count": 2,
   "metadata": {},
   "outputs": [],
   "source": [
    "input_dir = f\"/home/tom/fsas/eeg_data/generated_images/demo/input\"\n",
    "output_dir = f\"/home/tom/fsas/eeg_data/generated_images/demo/output\"\n",
    "device = \"cuda\" if torch.cuda.is_available() else \"cpu\" "
   ]
  },
  {
   "cell_type": "code",
   "execution_count": 3,
   "metadata": {},
   "outputs": [
    {
     "name": "stderr",
     "output_type": "stream",
     "text": [
      "/opt/conda/envs/BCI/lib/python3.11/site-packages/huggingface_hub/file_download.py:1142: FutureWarning: `resume_download` is deprecated and will be removed in version 1.0.0. Downloads always resume when possible. If you want to force a new download, use `force_download=True`.\n",
      "  warnings.warn(\n"
     ]
    }
   ],
   "source": [
    "class CLIPEncoder(nn.Module):\n",
    "    def __init__(self):\n",
    "        super().__init__()\n",
    "        # self.clip = CLIPVisionModel.from_pretrained('openai/clip-vit-large-patch14').to(torch.bfloat16)\n",
    "        # self.clip_size = (224, 224)\n",
    "\n",
    "        self.preprocess = CLIPImageProcessor(\n",
    "            # size={\"height\": 512, \"width\": 512},\n",
    "            size={\"shortest_edge\": 512}, \n",
    "            crop_size={\"height\": 512, \"width\": 512},\n",
    "        )\n",
    "\n",
    "\n",
    "        # for param in self.clip.parameters():\n",
    "        #     param.requires_grad = False\n",
    "        self.image_encoder = CLIPVisionModelWithProjection.from_pretrained(\n",
    "        \"h94/IP-Adapter\", \n",
    "        # \"laion2b_s32b_b79k\",\n",
    "        subfolder=\"models/image_encoder\",\n",
    "        torch_dtype=torch.float16,\n",
    "        ).to(\"cuda\")\n",
    "    \n",
    "clip_encoder = CLIPEncoder().to(device)"
   ]
  },
  {
   "cell_type": "code",
   "execution_count": 7,
   "metadata": {},
   "outputs": [
    {
     "name": "stderr",
     "output_type": "stream",
     "text": [
      "/tmp/ipykernel_7575/2234912871.py:3: FutureWarning: You are using `torch.load` with `weights_only=False` (the current default value), which uses the default pickle module implicitly. It is possible to construct malicious pickle data which will execute arbitrary code during unpickling (See https://github.com/pytorch/pytorch/blob/main/SECURITY.md#untrusted-models for more details). In a future release, the default value for `weights_only` will be flipped to `True`. This limits the functions that could be executed during unpickling. Arbitrary objects will no longer be allowed to be loaded via this mode unless they are explicitly allowlisted by the user via `torch.serialization.add_safe_globals`. We recommend you start setting `weights_only=True` for any use case where you don't have full control of the loaded file. Please open an issue on GitHub for any issues related to this experimental feature.\n",
      "  pipe.diffusion_prior.load_state_dict(torch.load(f'/home/tom/fsas/eeg_data/diffusion_prior_old/sub-08/diffusion_prior.pt', map_location=device))\n",
      "/tmp/ipykernel_7575/2234912871.py:4: FutureWarning: You are using `torch.load` with `weights_only=False` (the current default value), which uses the default pickle module implicitly. It is possible to construct malicious pickle data which will execute arbitrary code during unpickling (See https://github.com/pytorch/pytorch/blob/main/SECURITY.md#untrusted-models for more details). In a future release, the default value for `weights_only` will be flipped to `True`. This limits the functions that could be executed during unpickling. Arbitrary objects will no longer be allowed to be loaded via this mode unless they are explicitly allowlisted by the user via `torch.serialization.add_safe_globals`. We recommend you start setting `weights_only=True` for any use case where you don't have full control of the loaded file. Please open an issue on GitHub for any issues related to this experimental feature.\n",
      "  train_eeg_embeddings = torch.load('/home/tom/fsas/eeg_data/ATM_S_eeg_features_sub-08_train_old.pt', map_location=device).unsqueeze(1) # (66160, 1, 1024)\n",
      "/opt/conda/envs/BCI/lib/python3.11/site-packages/huggingface_hub/file_download.py:1142: FutureWarning: `resume_download` is deprecated and will be removed in version 1.0.0. Downloads always resume when possible. If you want to force a new download, use `force_download=True`.\n",
      "  warnings.warn(\n",
      "Loading pipeline components...: 100%|██████████| 7/7 [00:03<00:00,  2.21it/s]\n",
      "/opt/conda/envs/BCI/lib/python3.11/site-packages/diffusers/loaders/ip_adapter.py:127: FutureWarning: You are using `torch.load` with `weights_only=False` (the current default value), which uses the default pickle module implicitly. It is possible to construct malicious pickle data which will execute arbitrary code during unpickling (See https://github.com/pytorch/pytorch/blob/main/SECURITY.md#untrusted-models for more details). In a future release, the default value for `weights_only` will be flipped to `True`. This limits the functions that could be executed during unpickling. Arbitrary objects will no longer be allowed to be loaded via this mode unless they are explicitly allowlisted by the user via `torch.serialization.add_safe_globals`. We recommend you start setting `weights_only=True` for any use case where you don't have full control of the loaded file. Please open an issue on GitHub for any issues related to this experimental feature.\n",
      "  state_dict = torch.load(model_file, map_location=\"cpu\")\n",
      "10it [00:00, 12.60it/s]\n"
     ]
    },
    {
     "name": "stdout",
     "output_type": "stream",
     "text": [
      "latents torch.Size([1, 4, 64, 64])\n",
      "noise torch.Size([1, 4, 64, 64])\n"
     ]
    },
    {
     "name": "stderr",
     "output_type": "stream",
     "text": [
      " 80%|████████  | 4/5 [00:00<00:00, 11.32it/s]\n"
     ]
    },
    {
     "ename": "FileNotFoundError",
     "evalue": "[Errno 2] No such file or directory: '/home/tom/fsas/eeg_data/generated_images/demo/output/reconstructed_image_114.png'",
     "output_type": "error",
     "traceback": [
      "\u001b[0;31m---------------------------------------------------------------------------\u001b[0m",
      "\u001b[0;31mFileNotFoundError\u001b[0m                         Traceback (most recent call last)",
      "Cell \u001b[0;32mIn[7], line 27\u001b[0m\n\u001b[1;32m     24\u001b[0m reconstructed_image \u001b[38;5;241m=\u001b[39m generator\u001b[38;5;241m.\u001b[39mgenerate(h, generator\u001b[38;5;241m=\u001b[39mgen)\n\u001b[1;32m     26\u001b[0m output_path \u001b[38;5;241m=\u001b[39m os\u001b[38;5;241m.\u001b[39mpath\u001b[38;5;241m.\u001b[39mjoin(output_dir, file_name)\n\u001b[0;32m---> 27\u001b[0m \u001b[43mreconstructed_image\u001b[49m\u001b[38;5;241;43m.\u001b[39;49m\u001b[43msave\u001b[49m\u001b[43m(\u001b[49m\u001b[43moutput_path\u001b[49m\u001b[43m)\u001b[49m\n",
      "File \u001b[0;32m/opt/conda/envs/BCI/lib/python3.11/site-packages/PIL/Image.py:2436\u001b[0m, in \u001b[0;36mImage.save\u001b[0;34m(self, fp, format, **params)\u001b[0m\n\u001b[1;32m   2434\u001b[0m         fp \u001b[38;5;241m=\u001b[39m builtins\u001b[38;5;241m.\u001b[39mopen(filename, \u001b[38;5;124m\"\u001b[39m\u001b[38;5;124mr+b\u001b[39m\u001b[38;5;124m\"\u001b[39m)\n\u001b[1;32m   2435\u001b[0m     \u001b[38;5;28;01melse\u001b[39;00m:\n\u001b[0;32m-> 2436\u001b[0m         fp \u001b[38;5;241m=\u001b[39m \u001b[43mbuiltins\u001b[49m\u001b[38;5;241;43m.\u001b[39;49m\u001b[43mopen\u001b[49m\u001b[43m(\u001b[49m\u001b[43mfilename\u001b[49m\u001b[43m,\u001b[49m\u001b[43m \u001b[49m\u001b[38;5;124;43m\"\u001b[39;49m\u001b[38;5;124;43mw+b\u001b[39;49m\u001b[38;5;124;43m\"\u001b[39;49m\u001b[43m)\u001b[49m\n\u001b[1;32m   2438\u001b[0m \u001b[38;5;28;01mtry\u001b[39;00m:\n\u001b[1;32m   2439\u001b[0m     save_handler(\u001b[38;5;28mself\u001b[39m, fp, filename)\n",
      "\u001b[0;31mFileNotFoundError\u001b[0m: [Errno 2] No such file or directory: '/home/tom/fsas/eeg_data/generated_images/demo/output/reconstructed_image_114.png'"
     ]
    }
   ],
   "source": [
    "diffusion_prior = DiffusionPriorUNet(cond_dim=1024, dropout=0.1)\n",
    "pipe = Pipe(diffusion_prior, device=device)\n",
    "pipe.diffusion_prior.load_state_dict(torch.load(f'/home/tom/fsas/eeg_data/diffusion_prior_old/sub-08/diffusion_prior.pt', map_location=device))\n",
    "train_eeg_embeddings = torch.load('/home/tom/fsas/eeg_data/ATM_S_eeg_features_sub-08_train_old.pt', map_location=device).unsqueeze(1) # (66160, 1, 1024)\n",
    "\n",
    "def extract_label(filename):\n",
    "    match = re.search(r'_(\\d+)\\.png$', filename)\n",
    "    if match:\n",
    "        return int(match.group(1)) \n",
    "    return None\n",
    "\n",
    "seed_value = 42\n",
    "gen = torch.Generator(device=device)\n",
    "gen.manual_seed(seed_value)\n",
    "\n",
    "for i, (file_name) in enumerate(os.listdir(input_dir)):\n",
    "    label = extract_label(file_name)\n",
    "    input_path = os.path.join(input_dir, file_name)\n",
    "    low_level_image = Image.open(input_path) \n",
    "    low_level_image = clip_encoder.preprocess(low_level_image, return_tensors=\"pt\").pixel_values  # [1, 3, 224, 224]\n",
    "\n",
    "    generator = Generator4Embeds(num_inference_steps=5, device=device, img2img_strength=0.8, low_level_image=low_level_image)\n",
    "    h = pipe.generate(c_embeds=train_eeg_embeddings[label * 10], num_inference_steps=10, guidance_scale=2.0)\n",
    "    reconstructed_image = generator.generate(h, generator=gen)\n",
    "\n",
    "    output_path = os.path.join(output_dir, file_name)\n",
    "    reconstructed_image.save(output_path)"
   ]
  },
  {
   "cell_type": "code",
   "execution_count": null,
   "metadata": {},
   "outputs": [],
   "source": [
    "pipe_2 = DiffusionPipeline.from_pretrained(\"stabilityai/stable-diffusion-xl-base-1.0\", torch_dtype=torch.float, variant=\"fp16\")\n",
    "\n",
    "image_processor = VaeImageProcessor()\n",
    "\n",
    "if hasattr(pipe, 'vae'):\n",
    "    for param in pipe.vae.parameters():\n",
    "        param.requires_grad = False\n",
    "\n",
    "vae = pipe_2.vae.to(device)\n",
    "vae.requires_grad_(False)\n",
    "vae.eval()\n",
    "\n",
    "def evaluate(eeg_encoder, data_loader, train=True):\n",
    "    eeg_encoder = eeg_encoder.to(device)\n",
    "    eeg_encoder.eval()\n",
    "    \n",
    "    count = 0\n",
    "    for batch_idx, (eeg_data, labels, _, _, _, _) in enumerate(data_loader):\n",
    "        eeg_data = eeg_data.to(device)\n",
    "        eeg_feature = eeg_encoder(eeg_data)\n",
    "        x_reconstructed = vae.decode(eeg_feature).sample\n",
    "        prefix = \"train\" if train else \"test\" \n",
    "        img_reconstructed = image_processor.postprocess(x_reconstructed, output_type=\"pil\")\n",
    "        for i, (label) in enumerate(labels):\n",
    "            save_path = f\"/home/tom/fsas/eeg_data/generated_images/tmp/{prefix}/{label+1}.png\" \n",
    "            # 每个label生成一张图即可\n",
    "            if os.path.exists(save_path):\n",
    "                pass\n",
    "\n",
    "            img_reconstructed[i].save(save_path)\n",
    "            count = count + 1 \n",
    "            if count == 200:\n",
    "                return"
   ]
  }
 ],
 "metadata": {
  "kernelspec": {
   "display_name": "BCI",
   "language": "python",
   "name": "python3"
  },
  "language_info": {
   "codemirror_mode": {
    "name": "ipython",
    "version": 3
   },
   "file_extension": ".py",
   "mimetype": "text/x-python",
   "name": "python",
   "nbconvert_exporter": "python",
   "pygments_lexer": "ipython3",
   "version": "3.11.10"
  }
 },
 "nbformat": 4,
 "nbformat_minor": 2
}
