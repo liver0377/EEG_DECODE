{
 "cells": [
  {
   "cell_type": "markdown",
   "metadata": {},
   "source": [
    "# 检索任务Performance可视化结果展示"
   ]
  },
  {
   "cell_type": "markdown",
   "metadata": {},
   "source": [
    "## 函数定义"
   ]
  },
  {
   "cell_type": "code",
   "execution_count": null,
   "metadata": {},
   "outputs": [],
   "source": [
    "import os\n",
    "import pandas as pd\n",
    "import matplotlib.pyplot as plt\n",
    "\n",
    "def read_csv(csv_file):\n",
    "    try:\n",
    "        # 使用 pandas 直接读取 csv 文件\n",
    "        data = pd.read_csv(csv_file)\n",
    "        return data\n",
    "    except FileNotFoundError:\n",
    "        print(f\"File not found: {csv_file}\")\n",
    "        return None\n",
    "    except pd.errors.EmptyDataError:\n",
    "        print(f\"File is empty: {csv_file}\")\n",
    "        return None\n",
    "    except Exception as e:\n",
    "        print(f\"An error occurred while reading the file: {e}\")\n",
    "        return None\n",
    "        \n",
    "# 定义绘图函数，带最高点数值显示\n",
    "def plot_test_loss(data):\n",
    "    plt.figure()\n",
    "    plt.plot(data['epoch'], data['test_loss'], label='Test Loss')\n",
    "    plt.xlabel('Epoch')\n",
    "    plt.ylabel('Test Loss')\n",
    "    plt.title('Test Loss Over Epochs')\n",
    "    plt.legend()\n",
    "    plt.show() \n",
    "\n",
    "def plot_test_accuracy(data):\n",
    "    plt.figure()\n",
    "    plt.plot(data['epoch'], data['test_accuracy'], label='Test Accuracy')\n",
    "    max_idx = data['test_accuracy'].idxmax()\n",
    "    max_epoch = data['epoch'][max_idx]\n",
    "    max_value = data['test_accuracy'][max_idx]\n",
    "    plt.scatter(max_epoch, max_value, color='red', label='Max Point')\n",
    "    plt.text(max_epoch, max_value, f'{max_value:.2f}', color='red', fontsize=10, ha='right', va='bottom')\n",
    "    plt.xlabel('Epoch')\n",
    "    plt.ylabel('Test Accuracy')\n",
    "    plt.title('Test Accuracy Over Epochs')\n",
    "    plt.legend()\n",
    "    plt.show()\n",
    "\n",
    "def plot_v2_acc(data):\n",
    "    plt.figure()\n",
    "    plt.plot(data['epoch'], data['v2_acc'], label='V2 Accuracy')\n",
    "    max_idx = data['v2_acc'].idxmax()\n",
    "    max_epoch = data['epoch'][max_idx]\n",
    "    max_value = data['v2_acc'][max_idx]\n",
    "    plt.scatter(max_epoch, max_value, color='red', label='Max Point')\n",
    "    plt.text(max_epoch, max_value, f'{max_value:.2f}', color='red', fontsize=10, ha='right', va='bottom')\n",
    "    plt.xlabel('Epoch')\n",
    "    plt.ylabel('V2 Accuracy')\n",
    "    plt.title('V2 Accuracy Over Epochs')\n",
    "    plt.legend()\n",
    "    plt.show()\n",
    "\n",
    "def plot_v4_acc(data):\n",
    "    plt.figure()\n",
    "    plt.plot(data['epoch'], data['v4_acc'], label='V4 Accuracy')\n",
    "    max_idx = data['v4_acc'].idxmax()\n",
    "    max_epoch = data['epoch'][max_idx]\n",
    "    max_value = data['v4_acc'][max_idx]\n",
    "    plt.scatter(max_epoch, max_value, color='red', label='Max Point')\n",
    "    plt.text(max_epoch, max_value, f'{max_value:.2f}', color='red', fontsize=10, ha='right', va='bottom')\n",
    "    plt.xlabel('Epoch')\n",
    "    plt.ylabel('V4 Accuracy')\n",
    "    plt.title('V4 Accuracy Over Epochs')\n",
    "    plt.legend()\n",
    "    plt.show()\n",
    "\n",
    "def plot_v10_acc(data):\n",
    "    plt.figure()\n",
    "    plt.plot(data['epoch'], data['v10_acc'], label='V10 Accuracy')\n",
    "    max_idx = data['v10_acc'].idxmax()\n",
    "    max_epoch = data['epoch'][max_idx]\n",
    "    max_value = data['v10_acc'][max_idx]\n",
    "    plt.scatter(max_epoch, max_value, color='red', label='Max Point')\n",
    "    plt.text(max_epoch, max_value, f'{max_value:.2f}', color='red', fontsize=10, ha='right', va='bottom')\n",
    "    plt.xlabel('Epoch')\n",
    "    plt.ylabel('V10 Accuracy')\n",
    "    plt.title('V10 Accuracy Over Epochs')\n",
    "    plt.legend()\n",
    "    plt.show()\n",
    "\n",
    "def plot_top5_acc(data):\n",
    "    plt.figure()\n",
    "    plt.plot(data['epoch'], data['top5_acc'], label='Top-5 Accuracy')\n",
    "    max_idx = data['top5_acc'].idxmax()\n",
    "    max_epoch = data['epoch'][max_idx]\n",
    "    max_value = data['top5_acc'][max_idx]\n",
    "    plt.scatter(max_epoch, max_value, color='red', label='Max Point')\n",
    "    plt.text(max_epoch, max_value, f'{max_value:.2f}', color='red', fontsize=10, ha='right', va='bottom')\n",
    "    plt.xlabel('Epoch')\n",
    "    plt.ylabel('Top-5 Accuracy')\n",
    "    plt.title('Top-5 Accuracy Over Epochs')\n",
    "    plt.legend()\n",
    "    plt.show()\n",
    "\n",
    "def plot_v50_acc(data):\n",
    "    plt.figure()\n",
    "    plt.plot(data['epoch'], data['v50_acc'], label='V50 Accuracy')\n",
    "    max_idx = data['v50_acc'].idxmax()\n",
    "    max_epoch = data['epoch'][max_idx]\n",
    "    max_value = data['v50_acc'][max_idx]\n",
    "    plt.scatter(max_epoch, max_value, color='red', label='Max Point')\n",
    "    plt.text(max_epoch, max_value, f'{max_value:.2f}', color='red', fontsize=10, ha='right', va='bottom')\n",
    "    plt.xlabel('Epoch')\n",
    "    plt.ylabel('V50 Accuracy')\n",
    "    plt.title('V50 Accuracy Over Epochs')\n",
    "    plt.legend()\n",
    "    plt.show()\n",
    "\n",
    "def plot_v100_acc(data):\n",
    "    plt.figure()\n",
    "    plt.plot(data['epoch'], data['v100_acc'], label='V100 Accuracy')\n",
    "    max_idx = data['v100_acc'].idxmax()\n",
    "    max_epoch = data['epoch'][max_idx]\n",
    "    max_value = data['v100_acc'][max_idx]\n",
    "    plt.scatter(max_epoch, max_value, color='red', label='Max Point')\n",
    "    plt.text(max_epoch, max_value, f'{max_value:.2f}', color='red', fontsize=10, ha='right', va='bottom')\n",
    "    plt.xlabel('Epoch')\n",
    "    plt.ylabel('V100 Accuracy')\n",
    "    plt.title('V100 Accuracy Over Epochs')\n",
    "    plt.legend()\n",
    "    plt.show()\n",
    "\n",
    "def plot_v50_top5_acc(data):\n",
    "    plt.figure()\n",
    "    plt.plot(data['epoch'], data['v50_top5_acc'], label='V50 Top-5 Accuracy')\n",
    "    max_idx = data['v50_top5_acc'].idxmax()\n",
    "    max_epoch = data['epoch'][max_idx]\n",
    "    max_value = data['v50_top5_acc'][max_idx]\n",
    "    plt.scatter(max_epoch, max_value, color='red', label='Max Point')\n",
    "    plt.text(max_epoch, max_value, f'{max_value:.2f}', color='red', fontsize=10, ha='right', va='bottom')\n",
    "    plt.xlabel('Epoch')\n",
    "    plt.ylabel('V50 Top-5 Accuracy')\n",
    "    plt.title('V50 Top-5 Accuracy Over Epochs')\n",
    "    plt.legend()\n",
    "    plt.show()\n",
    "\n",
    "def plot_v100_top5_acc(data):\n",
    "    plt.figure()\n",
    "    plt.plot(data['epoch'], data['v100_top5_acc'], label='V100 Top-5 Accuracy')\n",
    "    max_idx = data['v100_top5_acc'].idxmax()\n",
    "    max_epoch = data['epoch'][max_idx]\n",
    "    max_value = data['v100_top5_acc'][max_idx]\n",
    "    plt.scatter(max_epoch, max_value, color='red', label='Max Point')\n",
    "    plt.text(max_epoch, max_value, f'{max_value:.2f}', color='red', fontsize=10, ha='right', va='bottom')\n",
    "    plt.xlabel('Epoch')\n",
    "    plt.ylabel('V100 Top-5 Accuracy')\n",
    "    plt.title('V100 Top-5 Accuracy Over Epochs')\n",
    "    plt.legend()\n",
    "    plt.show()\n",
    "\n",
    "def plot_average_test_accuracy(file_paths):\n",
    "        # Read all CSV files and extract the test_accuracy column\n",
    "    all_data = []\n",
    "    for file_path in file_paths:\n",
    "        data = read_csv(file_path)\n",
    "        if data is not None and 'test_accuracy' in data.columns:\n",
    "            all_data.append(data['test_accuracy'])\n",
    "        else:\n",
    "            print(f\"Skipping file {file_path} due to missing 'test_accuracy' column.\")\n",
    "    \n",
    "    if len(all_data) == 0:\n",
    "        print(\"No valid data to process.\")\n",
    "        return\n",
    "    \n",
    "    # Combine all test_accuracy columns into a dataframe\n",
    "    combined_data = pd.DataFrame(all_data).transpose()\n",
    "    \n",
    "    # Calculate mean, min, and max\n",
    "    combined_data['mean_accuracy'] = combined_data.mean(axis=1)\n",
    "    combined_data['min_accuracy'] = combined_data.min(axis=1)\n",
    "    combined_data['max_accuracy'] = combined_data.max(axis=1)\n",
    "    \n",
    "    # Add an epoch column\n",
    "    combined_data['epoch'] = range(1, len(combined_data) + 1)\n",
    "    \n",
    "    # Plot the average test accuracy\n",
    "    plt.figure(figsize=(8, 5))\n",
    "    plt.plot(combined_data['epoch'], combined_data['mean_accuracy'], color='blue', label='Average Test Accuracy')\n",
    "    \n",
    "    # Add shaded region for min-max range\n",
    "    plt.fill_between(\n",
    "        combined_data['epoch'], \n",
    "        combined_data['min_accuracy'], \n",
    "        combined_data['max_accuracy'], \n",
    "        color='blue', alpha=0.2, label='Min-Max Range'\n",
    "    )\n",
    "    \n",
    "    # Chance level line\n",
    "    chance_level = 0.005  # Replace with your actual chance level\n",
    "    plt.axhline(y=chance_level, color='gray', linestyle='--', label='Chance Level')\n",
    "\n",
    "    # Add labels, title, and legend\n",
    "    plt.xlabel('Epoch')\n",
    "    plt.ylabel('Test Accuracy')\n",
    "    plt.title('Test Accuracy with Min-Max Range Over Epochs')\n",
    "    plt.legend()\n",
    "    plt.show()"
   ]
  },
  {
   "cell_type": "code",
   "execution_count": null,
   "metadata": {},
   "outputs": [],
   "source": [
    "sub = \"sub-08\"\n",
    "\n",
    "base_dir = os.path.join(\"outputs\", \"contrast\", \"ATMS\")\n",
    "\n",
    "date = \"12-01_15-53\" \n",
    "\n",
    "csv_path = os.path.join(base_dir, sub, date, f\"ATMS_{sub}.csv\")\n",
    "\n",
    "csv_paths = []\n",
    "for i in range(10):\n",
    "    cur_sub = \"sub-\"\n",
    "    if i != 9:\n",
    "        cur_sub = cur_sub + \"0\" + str(i+1)\n",
    "    else:\n",
    "        cur_sub += \"10\"\n",
    "    single_csv_path = os.path.join(base_dir, cur_sub, date, f\"ATMS_{cur_sub}.csv\")\n",
    "    csv_paths.append(single_csv_path) "
   ]
  },
  {
   "cell_type": "code",
   "execution_count": null,
   "metadata": {},
   "outputs": [],
   "source": [
    "sub, base_dir, csv_path, csv_paths"
   ]
  },
  {
   "cell_type": "code",
   "execution_count": null,
   "metadata": {},
   "outputs": [],
   "source": [
    "data = read_csv(csv_path)"
   ]
  },
  {
   "cell_type": "code",
   "execution_count": null,
   "metadata": {},
   "outputs": [],
   "source": [
    "plot_average_test_accuracy(csv_paths)"
   ]
  },
  {
   "cell_type": "code",
   "execution_count": null,
   "metadata": {},
   "outputs": [],
   "source": [
    "\n",
    "plot_test_loss(data)"
   ]
  },
  {
   "cell_type": "code",
   "execution_count": null,
   "metadata": {},
   "outputs": [],
   "source": [
    "# 200 way\n",
    "plot_test_accuracy(data)"
   ]
  },
  {
   "cell_type": "code",
   "execution_count": null,
   "metadata": {},
   "outputs": [],
   "source": [
    "plot_v2_acc(data)"
   ]
  },
  {
   "cell_type": "code",
   "execution_count": null,
   "metadata": {},
   "outputs": [],
   "source": [
    "plot_v4_acc(data)"
   ]
  },
  {
   "cell_type": "code",
   "execution_count": null,
   "metadata": {},
   "outputs": [],
   "source": [
    "plot_v10_acc(data)"
   ]
  },
  {
   "cell_type": "code",
   "execution_count": null,
   "metadata": {},
   "outputs": [],
   "source": [
    "plot_top5_acc(data)"
   ]
  },
  {
   "cell_type": "code",
   "execution_count": null,
   "metadata": {},
   "outputs": [],
   "source": [
    "plot_v50_acc(data)"
   ]
  },
  {
   "cell_type": "code",
   "execution_count": null,
   "metadata": {},
   "outputs": [],
   "source": [
    "plot_v100_acc(data)"
   ]
  },
  {
   "cell_type": "code",
   "execution_count": null,
   "metadata": {},
   "outputs": [],
   "source": [
    "plot_v50_top5_acc(data)"
   ]
  },
  {
   "cell_type": "code",
   "execution_count": null,
   "metadata": {},
   "outputs": [],
   "source": [
    "plot_v100_top5_acc(data)"
   ]
  }
 ],
 "metadata": {
  "kernelspec": {
   "display_name": "BCI",
   "language": "python",
   "name": "python3"
  },
  "language_info": {
   "codemirror_mode": {
    "name": "ipython",
    "version": 3
   },
   "file_extension": ".py",
   "mimetype": "text/x-python",
   "name": "python",
   "nbconvert_exporter": "python",
   "pygments_lexer": "ipython3",
   "version": "3.11.10"
  }
 },
 "nbformat": 4,
 "nbformat_minor": 2
}
