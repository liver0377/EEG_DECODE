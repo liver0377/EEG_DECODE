{
 "cells": [
  {
   "cell_type": "code",
   "execution_count": 1,
   "id": "5d48cde8",
   "metadata": {},
   "outputs": [],
   "source": [
    "import torch\n",
    "from tqdm import tqdm\n",
    "import random\n",
    "import math\n",
    "device = \"cuda:0\"\n",
    "random.seed(42)"
   ]
  },
  {
   "cell_type": "code",
   "execution_count": 3,
   "id": "a0170085",
   "metadata": {},
   "outputs": [],
   "source": [
    "def retrieval(features_A, features_B, k_way=4):\n",
    "    \"\"\"\n",
    "    由A检索B\n",
    "    \"\"\"\n",
    "    features_A = features_A.to(device)\n",
    "    features_B = features_B.to(device)\n",
    "\n",
    "    assert features_A.shape[0] == features_B.shape[0], \"features_A 与 features_B 长度不相等\"\n",
    "\n",
    "    logit_scale = math.log(1 / 0.07)\n",
    "    batch_size = 20\n",
    "    N = features_A.shape[0]\n",
    "\n",
    "    all_classes = set(range(0, N))\n",
    "    correct = 0\n",
    "    for i in tqdm(range(0, N, batch_size), desc=\"retrieving...\"):\n",
    "        for label in range(i, i + batch_size):\n",
    "            possible_classes = list(all_classes - {label}) # 199个其它可能的类\n",
    "            selected_classes = random.sample(possible_classes, k_way-1) + [label]\n",
    "            selected_features = features_B[selected_classes]\n",
    "\n",
    "            logits = logit_scale * features_A[label] @ selected_features.T\n",
    "            predicted_label = selected_classes[torch.argmax(logits).item()]\n",
    "\n",
    "            if predicted_label == label:\n",
    "                correct += 1\n",
    "    \n",
    "    accuracy = correct / N\n",
    "    return accuracy"
   ]
  },
  {
   "cell_type": "markdown",
   "id": "ad7ff3e7",
   "metadata": {},
   "source": [
    "### EEG检索图像"
   ]
  },
  {
   "cell_type": "code",
   "execution_count": 4,
   "id": "e4e451d2",
   "metadata": {},
   "outputs": [
    {
     "name": "stderr",
     "output_type": "stream",
     "text": [
      "retrieving...: 100%|██████████| 10/10 [00:00<00:00, 59.37it/s]\n"
     ]
    },
    {
     "name": "stdout",
     "output_type": "stream",
     "text": [
      "sub-01 检索结果: 0.84\n"
     ]
    },
    {
     "name": "stderr",
     "output_type": "stream",
     "text": [
      "retrieving...: 100%|██████████| 10/10 [00:00<00:00, 232.65it/s]\n"
     ]
    },
    {
     "name": "stdout",
     "output_type": "stream",
     "text": [
      "sub-02 检索结果: 0.83\n"
     ]
    },
    {
     "name": "stderr",
     "output_type": "stream",
     "text": [
      "retrieving...: 100%|██████████| 10/10 [00:00<00:00, 192.04it/s]\n"
     ]
    },
    {
     "name": "stdout",
     "output_type": "stream",
     "text": [
      "sub-03 检索结果: 0.87\n"
     ]
    },
    {
     "name": "stderr",
     "output_type": "stream",
     "text": [
      "retrieving...: 100%|██████████| 10/10 [00:00<00:00, 263.06it/s]\n"
     ]
    },
    {
     "name": "stdout",
     "output_type": "stream",
     "text": [
      "sub-04 检索结果: 0.86\n"
     ]
    },
    {
     "name": "stderr",
     "output_type": "stream",
     "text": [
      "retrieving...: 100%|██████████| 10/10 [00:00<00:00, 348.44it/s]\n"
     ]
    },
    {
     "name": "stdout",
     "output_type": "stream",
     "text": [
      "sub-05 检索结果: 0.765\n"
     ]
    },
    {
     "name": "stderr",
     "output_type": "stream",
     "text": [
      "retrieving...: 100%|██████████| 10/10 [00:00<00:00, 351.46it/s]\n"
     ]
    },
    {
     "name": "stdout",
     "output_type": "stream",
     "text": [
      "sub-06 检索结果: 0.855\n"
     ]
    },
    {
     "name": "stderr",
     "output_type": "stream",
     "text": [
      "retrieving...: 100%|██████████| 10/10 [00:00<00:00, 350.59it/s]\n"
     ]
    },
    {
     "name": "stdout",
     "output_type": "stream",
     "text": [
      "sub-07 检索结果: 0.84\n"
     ]
    },
    {
     "name": "stderr",
     "output_type": "stream",
     "text": [
      "retrieving...: 100%|██████████| 10/10 [00:00<00:00, 349.08it/s]\n"
     ]
    },
    {
     "name": "stdout",
     "output_type": "stream",
     "text": [
      "sub-08 检索结果: 0.895\n"
     ]
    },
    {
     "name": "stderr",
     "output_type": "stream",
     "text": [
      "retrieving...: 100%|██████████| 10/10 [00:00<00:00, 306.81it/s]\n"
     ]
    },
    {
     "name": "stdout",
     "output_type": "stream",
     "text": [
      "sub-09 检索结果: 0.445\n"
     ]
    },
    {
     "name": "stderr",
     "output_type": "stream",
     "text": [
      "retrieving...: 100%|██████████| 10/10 [00:00<00:00, 216.86it/s]"
     ]
    },
    {
     "name": "stdout",
     "output_type": "stream",
     "text": [
      "sub-10 检索结果: 0.455\n"
     ]
    },
    {
     "name": "stderr",
     "output_type": "stream",
     "text": [
      "\n"
     ]
    }
   ],
   "source": [
    "# eeg_features = torch.load(\"/home/tom/fsas/eeg_data/features/old_features/ATM_S_eeg_features_sub-08_test.pt\", weights_only=True)\n",
    "image_features = torch.load(\"/home/tom/fsas/eeg_data/features/ViT-H-14_features_test.pt\", weights_only=True)['img_features']\n",
    "\n",
    "# 循环处理所有sub\n",
    "for i in range(1, 11):  # 生成sub-01到sub-10\n",
    "    sub_id = f\"sub-{i:02d}\"  # 保证两位数格式\n",
    "    \n",
    "    # 动态生成EEG特征路径\n",
    "    eeg_path = f\"/home/tom/fsas/eeg_data/eeg4image/{sub_id}/ATM_S_eeg_features_{sub_id}_test.pt\"\n",
    "    eeg_features = torch.load(eeg_path, weights_only=True)\n",
    "        \n",
    "    # 执行检索并输出结果\n",
    "    result = retrieval(eeg_features, image_features)\n",
    "    print(f\"{sub_id} 检索结果:\", result)"
   ]
  },
  {
   "cell_type": "markdown",
   "id": "8bd6f12e",
   "metadata": {},
   "source": [
    "### EEG检索文本"
   ]
  },
  {
   "cell_type": "code",
   "execution_count": 6,
   "id": "94c1475c",
   "metadata": {},
   "outputs": [
    {
     "name": "stderr",
     "output_type": "stream",
     "text": [
      "retrieving...: 100%|██████████| 10/10 [00:00<00:00, 346.78it/s]\n"
     ]
    },
    {
     "name": "stdout",
     "output_type": "stream",
     "text": [
      "sub-01 检索结果: 0.685\n"
     ]
    },
    {
     "name": "stderr",
     "output_type": "stream",
     "text": [
      "retrieving...: 100%|██████████| 10/10 [00:00<00:00, 347.90it/s]\n"
     ]
    },
    {
     "name": "stdout",
     "output_type": "stream",
     "text": [
      "sub-02 检索结果: 0.695\n"
     ]
    },
    {
     "name": "stderr",
     "output_type": "stream",
     "text": [
      "retrieving...: 100%|██████████| 10/10 [00:00<00:00, 346.98it/s]\n"
     ]
    },
    {
     "name": "stdout",
     "output_type": "stream",
     "text": [
      "sub-03 检索结果: 0.745\n"
     ]
    },
    {
     "name": "stderr",
     "output_type": "stream",
     "text": [
      "retrieving...: 100%|██████████| 10/10 [00:00<00:00, 349.25it/s]\n"
     ]
    },
    {
     "name": "stdout",
     "output_type": "stream",
     "text": [
      "sub-04 检索结果: 0.805\n"
     ]
    },
    {
     "name": "stderr",
     "output_type": "stream",
     "text": [
      "retrieving...: 100%|██████████| 10/10 [00:00<00:00, 347.78it/s]\n"
     ]
    },
    {
     "name": "stdout",
     "output_type": "stream",
     "text": [
      "sub-05 检索结果: 0.65\n"
     ]
    },
    {
     "name": "stderr",
     "output_type": "stream",
     "text": [
      "retrieving...: 100%|██████████| 10/10 [00:00<00:00, 345.82it/s]\n"
     ]
    },
    {
     "name": "stdout",
     "output_type": "stream",
     "text": [
      "sub-06 检索结果: 0.76\n"
     ]
    },
    {
     "name": "stderr",
     "output_type": "stream",
     "text": [
      "retrieving...: 100%|██████████| 10/10 [00:00<00:00, 243.41it/s]\n"
     ]
    },
    {
     "name": "stdout",
     "output_type": "stream",
     "text": [
      "sub-07 检索结果: 0.71\n"
     ]
    },
    {
     "name": "stderr",
     "output_type": "stream",
     "text": [
      "retrieving...: 100%|██████████| 10/10 [00:00<00:00, 299.35it/s]\n"
     ]
    },
    {
     "name": "stdout",
     "output_type": "stream",
     "text": [
      "sub-08 检索结果: 0.805\n"
     ]
    },
    {
     "name": "stderr",
     "output_type": "stream",
     "text": [
      "retrieving...: 100%|██████████| 10/10 [00:00<00:00, 304.79it/s]\n"
     ]
    },
    {
     "name": "stdout",
     "output_type": "stream",
     "text": [
      "sub-09 检索结果: 0.435\n"
     ]
    },
    {
     "name": "stderr",
     "output_type": "stream",
     "text": [
      "retrieving...: 100%|██████████| 10/10 [00:00<00:00, 351.03it/s]"
     ]
    },
    {
     "name": "stdout",
     "output_type": "stream",
     "text": [
      "sub-10 检索结果: 0.435\n"
     ]
    },
    {
     "name": "stderr",
     "output_type": "stream",
     "text": [
      "\n"
     ]
    }
   ],
   "source": [
    "# eeg_features = torch.load(\"/home/tom/fsas/eeg_data/features/old_features/ATM_S_eeg_features_sub-08_test.pt\", weights_only=True)\n",
    "# text_features = torch.load(\"/home/tom/fsas/eeg_data/features/ViT-H-14_features_test.pt\", weights_only=True)['text_features']\n",
    "text_features = torch.load(\"/home/tom/fsas/eeg_data/features/ATMS_ViT-H-14_text_features_test.pt\", weights_only=True)\n",
    "\n",
    "# 循环处理所有sub\n",
    "for i in range(1, 11):  # 生成sub-01到sub-10\n",
    "    sub_id = f\"sub-{i:02d}\"  # 保证两位数格式\n",
    "    \n",
    "    # 动态生成EEG特征路径\n",
    "    eeg_path = f\"/home/tom/fsas/eeg_data/eeg4text/{sub_id}/ATM_S_eeg_features_{sub_id}_test.pt\"\n",
    "    eeg_features = torch.load(eeg_path, weights_only=True)\n",
    "        \n",
    "    # 执行检索并输出结果\n",
    "    result = retrieval(eeg_features, text_features)\n",
    "    print(f\"{sub_id} 检索结果:\", result)"
   ]
  },
  {
   "cell_type": "markdown",
   "id": "946b88cd",
   "metadata": {},
   "source": [
    "### 图像检索EEG"
   ]
  },
  {
   "cell_type": "code",
   "execution_count": 7,
   "id": "e449b15e",
   "metadata": {},
   "outputs": [
    {
     "name": "stderr",
     "output_type": "stream",
     "text": [
      "retrieving...: 100%|██████████| 10/10 [00:00<00:00, 347.20it/s]\n"
     ]
    },
    {
     "name": "stdout",
     "output_type": "stream",
     "text": [
      "sub-01 检索结果: 0.86\n"
     ]
    },
    {
     "name": "stderr",
     "output_type": "stream",
     "text": [
      "retrieving...:   0%|          | 0/10 [00:00<?, ?it/s]"
     ]
    },
    {
     "name": "stderr",
     "output_type": "stream",
     "text": [
      "retrieving...: 100%|██████████| 10/10 [00:00<00:00, 351.77it/s]\n"
     ]
    },
    {
     "name": "stdout",
     "output_type": "stream",
     "text": [
      "sub-02 检索结果: 0.855\n"
     ]
    },
    {
     "name": "stderr",
     "output_type": "stream",
     "text": [
      "retrieving...: 100%|██████████| 10/10 [00:00<00:00, 348.65it/s]\n"
     ]
    },
    {
     "name": "stdout",
     "output_type": "stream",
     "text": [
      "sub-03 检索结果: 0.93\n"
     ]
    },
    {
     "name": "stderr",
     "output_type": "stream",
     "text": [
      "retrieving...: 100%|██████████| 10/10 [00:00<00:00, 349.40it/s]\n"
     ]
    },
    {
     "name": "stdout",
     "output_type": "stream",
     "text": [
      "sub-04 检索结果: 0.95\n"
     ]
    },
    {
     "name": "stderr",
     "output_type": "stream",
     "text": [
      "retrieving...: 100%|██████████| 10/10 [00:00<00:00, 315.73it/s]\n"
     ]
    },
    {
     "name": "stdout",
     "output_type": "stream",
     "text": [
      "sub-05 检索结果: 0.84\n"
     ]
    },
    {
     "name": "stderr",
     "output_type": "stream",
     "text": [
      "retrieving...: 100%|██████████| 10/10 [00:00<00:00, 345.98it/s]\n"
     ]
    },
    {
     "name": "stdout",
     "output_type": "stream",
     "text": [
      "sub-06 检索结果: 0.905\n"
     ]
    },
    {
     "name": "stderr",
     "output_type": "stream",
     "text": [
      "retrieving...: 100%|██████████| 10/10 [00:00<00:00, 349.06it/s]\n"
     ]
    },
    {
     "name": "stdout",
     "output_type": "stream",
     "text": [
      "sub-07 检索结果: 0.9\n"
     ]
    },
    {
     "name": "stderr",
     "output_type": "stream",
     "text": [
      "retrieving...: 100%|██████████| 10/10 [00:00<00:00, 211.92it/s]\n"
     ]
    },
    {
     "name": "stdout",
     "output_type": "stream",
     "text": [
      "sub-08 检索结果: 0.915\n"
     ]
    },
    {
     "name": "stderr",
     "output_type": "stream",
     "text": [
      "retrieving...: 100%|██████████| 10/10 [00:00<00:00, 226.85it/s]\n"
     ]
    },
    {
     "name": "stdout",
     "output_type": "stream",
     "text": [
      "sub-09 检索结果: 0.55\n"
     ]
    },
    {
     "name": "stderr",
     "output_type": "stream",
     "text": [
      "retrieving...: 100%|██████████| 10/10 [00:00<00:00, 344.07it/s]"
     ]
    },
    {
     "name": "stdout",
     "output_type": "stream",
     "text": [
      "sub-10 检索结果: 0.525\n"
     ]
    },
    {
     "name": "stderr",
     "output_type": "stream",
     "text": [
      "\n"
     ]
    }
   ],
   "source": [
    "# eeg_features = torch.load(\"/home/tom/fsas/eeg_data/features/old_features/ATM_S_eeg_features_sub-08_test.pt\", weights_only=True)\n",
    "image_features = torch.load(\"/home/tom/fsas/eeg_data/features/ViT-H-14_features_test.pt\", weights_only=True)['img_features']\n",
    "\n",
    "# 循环处理所有sub\n",
    "for i in range(1, 11):  # 生成sub-01到sub-10\n",
    "    sub_id = f\"sub-{i:02d}\"  # 保证两位数格式\n",
    "    \n",
    "    # 动态生成EEG特征路径\n",
    "    eeg_path = f\"/home/tom/fsas/eeg_data/eeg4image/{sub_id}/ATM_S_eeg_features_{sub_id}_test.pt\"\n",
    "    eeg_features = torch.load(eeg_path, weights_only=True)\n",
    "        \n",
    "    # 执行检索并输出结果\n",
    "    result = retrieval(image_features, eeg_features)\n",
    "    print(f\"{sub_id} 检索结果:\", result)"
   ]
  },
  {
   "cell_type": "markdown",
   "id": "d6f4f265",
   "metadata": {},
   "source": [
    "### 文本检索EEG"
   ]
  },
  {
   "cell_type": "code",
   "execution_count": 8,
   "id": "1ff0e5ce",
   "metadata": {},
   "outputs": [
    {
     "name": "stderr",
     "output_type": "stream",
     "text": [
      "retrieving...: 100%|██████████| 10/10 [00:00<00:00, 236.77it/s]\n"
     ]
    },
    {
     "name": "stdout",
     "output_type": "stream",
     "text": [
      "sub-01 检索结果: 0.73\n"
     ]
    },
    {
     "name": "stderr",
     "output_type": "stream",
     "text": [
      "retrieving...: 100%|██████████| 10/10 [00:00<00:00, 258.66it/s]\n"
     ]
    },
    {
     "name": "stdout",
     "output_type": "stream",
     "text": [
      "sub-02 检索结果: 0.71\n"
     ]
    },
    {
     "name": "stderr",
     "output_type": "stream",
     "text": [
      "retrieving...: 100%|██████████| 10/10 [00:00<00:00, 233.24it/s]\n"
     ]
    },
    {
     "name": "stdout",
     "output_type": "stream",
     "text": [
      "sub-03 检索结果: 0.75\n"
     ]
    },
    {
     "name": "stderr",
     "output_type": "stream",
     "text": [
      "retrieving...: 100%|██████████| 10/10 [00:00<00:00, 233.74it/s]\n"
     ]
    },
    {
     "name": "stdout",
     "output_type": "stream",
     "text": [
      "sub-04 检索结果: 0.825\n"
     ]
    },
    {
     "name": "stderr",
     "output_type": "stream",
     "text": [
      "retrieving...: 100%|██████████| 10/10 [00:00<00:00, 205.08it/s]\n"
     ]
    },
    {
     "name": "stdout",
     "output_type": "stream",
     "text": [
      "sub-05 检索结果: 0.71\n"
     ]
    },
    {
     "name": "stderr",
     "output_type": "stream",
     "text": [
      "retrieving...: 100%|██████████| 10/10 [00:00<00:00, 184.61it/s]\n"
     ]
    },
    {
     "name": "stdout",
     "output_type": "stream",
     "text": [
      "sub-06 检索结果: 0.79\n"
     ]
    },
    {
     "name": "stderr",
     "output_type": "stream",
     "text": [
      "retrieving...: 100%|██████████| 10/10 [00:00<00:00, 228.22it/s]\n"
     ]
    },
    {
     "name": "stdout",
     "output_type": "stream",
     "text": [
      "sub-07 检索结果: 0.74\n"
     ]
    },
    {
     "name": "stderr",
     "output_type": "stream",
     "text": [
      "retrieving...: 100%|██████████| 10/10 [00:00<00:00, 247.88it/s]\n"
     ]
    },
    {
     "name": "stdout",
     "output_type": "stream",
     "text": [
      "sub-08 检索结果: 0.805\n"
     ]
    },
    {
     "name": "stderr",
     "output_type": "stream",
     "text": [
      "retrieving...: 100%|██████████| 10/10 [00:00<00:00, 222.89it/s]\n"
     ]
    },
    {
     "name": "stdout",
     "output_type": "stream",
     "text": [
      "sub-09 检索结果: 0.43\n"
     ]
    },
    {
     "name": "stderr",
     "output_type": "stream",
     "text": [
      "retrieving...: 100%|██████████| 10/10 [00:00<00:00, 255.51it/s]"
     ]
    },
    {
     "name": "stdout",
     "output_type": "stream",
     "text": [
      "sub-10 检索结果: 0.49\n"
     ]
    },
    {
     "name": "stderr",
     "output_type": "stream",
     "text": [
      "\n"
     ]
    }
   ],
   "source": [
    "# eeg_features = torch.load(\"/home/tom/fsas/eeg_data/features/old_features/ATM_S_eeg_features_sub-08_test.pt\", weights_only=True)\n",
    "# text_features = torch.load(\"/home/tom/fsas/eeg_data/features/ViT-H-14_features_test.pt\", weights_only=True)['text_features']\n",
    "text_features = torch.load(\"/home/tom/fsas/eeg_data/features/ATMS_ViT-H-14_text_features_test.pt\", weights_only=True)\n",
    "\n",
    "# 循环处理所有sub\n",
    "for i in range(1, 11):  # 生成sub-01到sub-10\n",
    "    sub_id = f\"sub-{i:02d}\"  # 保证两位数格式\n",
    "    \n",
    "    # 动态生成EEG特征路径\n",
    "    eeg_path = f\"/home/tom/fsas/eeg_data/eeg4text/{sub_id}/ATM_S_eeg_features_{sub_id}_test.pt\"\n",
    "    eeg_features = torch.load(eeg_path, weights_only=True)\n",
    "        \n",
    "    # 执行检索并输出结果\n",
    "    result = retrieval(text_features, eeg_features)\n",
    "    print(f\"{sub_id} 检索结果:\", result)"
   ]
  }
 ],
 "metadata": {
  "kernelspec": {
   "display_name": "BCI",
   "language": "python",
   "name": "python3"
  },
  "language_info": {
   "codemirror_mode": {
    "name": "ipython",
    "version": 3
   },
   "file_extension": ".py",
   "mimetype": "text/x-python",
   "name": "python",
   "nbconvert_exporter": "python",
   "pygments_lexer": "ipython3",
   "version": "3.11.10"
  }
 },
 "nbformat": 4,
 "nbformat_minor": 5
}
